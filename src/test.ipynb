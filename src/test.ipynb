{
 "cells": [
  {
   "cell_type": "code",
   "execution_count": null,
   "id": "f90b623b",
   "metadata": {},
   "outputs": [],
   "source": [
    "import numpy as np\n",
    "import matplotlib.pyplot as plt\n",
    "from sklearn.datasets import fetch_openml\n",
    "from sklearn.model_selection import train_test_split\n",
    "from sklearn.preprocessing import StandardScaler, LabelBinarizer\n",
    "from sklearn.utils import check_random_state\n",
    "from Fungsi.FungsiAktivasi import FungsiAktivasi\n",
    "from Fungsi.FungsiLoss import FungsiLoss\n",
    "from Model.FFNN import FFNN\n",
    "from Fungsi.FungsiAktivasi import FungsiAktivasi, RELU, SIGMOID, LINEAR, TANH, SOFTMAX\n",
    "from Fungsi.FungsiLoss import FungsiLoss, CCE, MSE, BCE\n",
    "\n",
    "def run_test(\n",
    "    n_hidden=1,\n",
    "    hidden_size=1,\n",
    "    epochs=10,\n",
    "    weight_init_method=\"he\",\n",
    "    activation_hidden = SIGMOID,\n",
    "    batch_size=10,\n",
    "    learning_rate=0.01,\n",
    "    lambda_L1=1e-4,\n",
    "    lambda_L2=1e-4,\n",
    "    seed=42\n",
    "):\n",
    "    X, y = fetch_openml(\"mnist_784\", version=1, return_X_y=True, as_frame=False)\n",
    "    random_state = check_random_state(seed)\n",
    "    permutation = random_state.permutation(X.shape[0])\n",
    "    X, y = X[permutation], y[permutation]\n",
    "\n",
    "    X = X.reshape((X.shape[0], -1))\n",
    "    X_train_val, X_test, y_train_val, y_test = train_test_split(X, y, train_size=5000, test_size=10000, random_state=seed)\n",
    "    X_train, X_val, y_train, y_val = train_test_split(X_train_val, y_train_val, test_size=0.2, random_state=seed)\n",
    "\n",
    "    scaler = StandardScaler()\n",
    "    X_train = scaler.fit_transform(X_train)\n",
    "    X_val = scaler.transform(X_val)\n",
    "    X_test = scaler.transform(X_test)\n",
    "\n",
    "    lb = LabelBinarizer()\n",
    "    y_train_onehot = lb.fit_transform(y_train)\n",
    "    y_val_onehot = lb.transform(y_val)\n",
    "    y_test_onehot = lb.transform(y_test)\n",
    "\n",
    "    input_size = X.shape[1]\n",
    "    output_size = y_train_onehot.shape[1]\n",
    "\n",
    "    activation_funcs = [LINEAR] + [activation_hidden for _ in range(n_hidden)] + [SOFTMAX]\n",
    "    weight_inits = [weight_init_method] * (n_hidden + 2)\n",
    "\n",
    "    ffnn = FFNN(\n",
    "        X_train, y_train_onehot,\n",
    "        input_size = input_size,\n",
    "        hidden_size = hidden_size,\n",
    "        output_size = output_size,\n",
    "        n_hidden = n_hidden,\n",
    "        batch_size = batch_size,\n",
    "        learning_rate = learning_rate,\n",
    "        epoch = epochs,\n",
    "        activation_func = activation_funcs,\n",
    "        loss_func = CCE,\n",
    "        weight_init_method = weight_inits,\n",
    "        lower_bound = -0.1,\n",
    "        upper_bound = 0.1,\n",
    "        mean = 0, variance = 0.1,\n",
    "        seed = seed,\n",
    "        lambda_L1 = lambda_L1,\n",
    "        lambda_L2 = lambda_L2\n",
    "    )\n",
    "\n",
    "    history = ffnn.train(\n",
    "        X_train, y_train_onehot,\n",
    "        X_val=X_val, y_val=y_val_onehot,\n",
    "        verbose=1\n",
    "    )\n",
    "\n",
    "    plt.figure(figsize=(10, 5))\n",
    "    plt.plot(history['train_loss'], label='Train Loss')\n",
    "    plt.plot(history['val_loss'], label='Validation Loss')\n",
    "    plt.xlabel(\"Epoch\")\n",
    "    plt.ylabel(\"Loss\")\n",
    "    plt.title(\"Training vs Validation Loss\")\n",
    "    plt.legend()\n",
    "    plt.grid(True)\n",
    "    plt.tight_layout()\n",
    "    plt.show()\n",
    "\n",
    "    def accuracy(y_true, y_pred):\n",
    "        return np.mean(np.argmax(y_true, axis=1) == np.argmax(y_pred, axis=1))\n",
    "\n",
    "    train_pred = ffnn.predict(X_train)\n",
    "    test_pred = ffnn.predict(X_test)\n",
    "\n",
    "    print(f\"Train accuracy: {accuracy(y_train_onehot, train_pred):.4f}\")\n",
    "    print(f\"Test accuracy: {accuracy(y_test_onehot, test_pred):.4f}\")\n",
    "\n",
    "    return ffnn, history"
   ]
  },
  {
   "cell_type": "markdown",
   "id": "9ad84760",
   "metadata": {},
   "source": [
    "## Pengaruh Depth dan Width\n",
    "\n",
    "Depth = n_hidden  \n",
    "Width = hidden_size"
   ]
  },
  {
   "cell_type": "code",
   "execution_count": 14,
   "id": "87bb3008",
   "metadata": {},
   "outputs": [
    {
     "ename": "ValueError",
     "evalue": "<Fungsi.FungsiAktivasi.FungsiAktivasi object at 0x000001D44201D250> bukan merupakan nama fungsi aktivasi yang valid.",
     "output_type": "error",
     "traceback": [
      "\u001b[1;31m---------------------------------------------------------------------------\u001b[0m",
      "\u001b[1;31mValueError\u001b[0m                                Traceback (most recent call last)",
      "\u001b[1;32m~\\AppData\\Local\\Temp\\ipykernel_28036\\3018611296.py\u001b[0m in \u001b[0;36m<module>\u001b[1;34m\u001b[0m\n\u001b[1;32m----> 1\u001b[1;33m \u001b[0mmodel\u001b[0m\u001b[1;33m,\u001b[0m \u001b[0mhist\u001b[0m \u001b[1;33m=\u001b[0m \u001b[0mrun_test\u001b[0m\u001b[1;33m(\u001b[0m\u001b[0mn_hidden\u001b[0m \u001b[1;33m=\u001b[0m \u001b[1;36m1\u001b[0m\u001b[1;33m,\u001b[0m \u001b[0mhidden_size\u001b[0m \u001b[1;33m=\u001b[0m \u001b[1;36m1\u001b[0m\u001b[1;33m)\u001b[0m\u001b[1;33m\u001b[0m\u001b[1;33m\u001b[0m\u001b[0m\n\u001b[0m",
      "\u001b[1;32m~\\AppData\\Local\\Temp\\ipykernel_28036\\1524789188.py\u001b[0m in \u001b[0;36mrun_test\u001b[1;34m(n_hidden, hidden_size, epochs, weight_init_method, activation_hidden, batch_size, learning_rate, lambda_L1, lambda_L2, seed)\u001b[0m\n\u001b[0;32m     44\u001b[0m     \u001b[0moutput_size\u001b[0m \u001b[1;33m=\u001b[0m \u001b[0my_train_onehot\u001b[0m\u001b[1;33m.\u001b[0m\u001b[0mshape\u001b[0m\u001b[1;33m[\u001b[0m\u001b[1;36m1\u001b[0m\u001b[1;33m]\u001b[0m\u001b[1;33m\u001b[0m\u001b[1;33m\u001b[0m\u001b[0m\n\u001b[0;32m     45\u001b[0m \u001b[1;33m\u001b[0m\u001b[0m\n\u001b[1;32m---> 46\u001b[1;33m     \u001b[0mactivation_funcs\u001b[0m \u001b[1;33m=\u001b[0m \u001b[1;33m[\u001b[0m\u001b[0mFungsiAktivasi\u001b[0m\u001b[1;33m(\u001b[0m\u001b[0mLINEAR\u001b[0m\u001b[1;33m)\u001b[0m\u001b[1;33m]\u001b[0m \u001b[1;33m+\u001b[0m \u001b[1;33m[\u001b[0m\u001b[0mFungsiAktivasi\u001b[0m\u001b[1;33m(\u001b[0m\u001b[0mactivation_hidden\u001b[0m\u001b[1;33m)\u001b[0m \u001b[1;32mfor\u001b[0m \u001b[0m_\u001b[0m \u001b[1;32min\u001b[0m \u001b[0mrange\u001b[0m\u001b[1;33m(\u001b[0m\u001b[0mn_hidden\u001b[0m\u001b[1;33m)\u001b[0m\u001b[1;33m]\u001b[0m \u001b[1;33m+\u001b[0m \u001b[1;33m[\u001b[0m\u001b[0mFungsiAktivasi\u001b[0m\u001b[1;33m(\u001b[0m\u001b[0mSOFTMAX\u001b[0m\u001b[1;33m)\u001b[0m\u001b[1;33m]\u001b[0m\u001b[1;33m\u001b[0m\u001b[1;33m\u001b[0m\u001b[0m\n\u001b[0m\u001b[0;32m     47\u001b[0m     \u001b[0mweight_inits\u001b[0m \u001b[1;33m=\u001b[0m \u001b[1;33m[\u001b[0m\u001b[0mweight_init_method\u001b[0m\u001b[1;33m]\u001b[0m \u001b[1;33m*\u001b[0m \u001b[1;33m(\u001b[0m\u001b[0mn_hidden\u001b[0m \u001b[1;33m+\u001b[0m \u001b[1;36m2\u001b[0m\u001b[1;33m)\u001b[0m\u001b[1;33m\u001b[0m\u001b[1;33m\u001b[0m\u001b[0m\n\u001b[0;32m     48\u001b[0m \u001b[1;33m\u001b[0m\u001b[0m\n",
      "\u001b[1;32mc:\\Users\\DIERO PURNAMA\\Documents\\CODING\\ML\\Tubes1_ML\\Tubes1_ML\\src\\Fungsi\\FungsiAktivasi.py\u001b[0m in \u001b[0;36m__init__\u001b[1;34m(self, name)\u001b[0m\n\u001b[0;32m     13\u001b[0m \u001b[1;33m\u001b[0m\u001b[0m\n\u001b[0;32m     14\u001b[0m         \u001b[1;32mif\u001b[0m \u001b[0mname\u001b[0m \u001b[1;32mnot\u001b[0m \u001b[1;32min\u001b[0m \u001b[0mactivation_functions\u001b[0m\u001b[1;33m:\u001b[0m\u001b[1;33m\u001b[0m\u001b[1;33m\u001b[0m\u001b[0m\n\u001b[1;32m---> 15\u001b[1;33m             \u001b[1;32mraise\u001b[0m \u001b[0mValueError\u001b[0m\u001b[1;33m(\u001b[0m\u001b[1;34mf\"{name} bukan merupakan nama fungsi aktivasi yang valid.\"\u001b[0m\u001b[1;33m)\u001b[0m\u001b[1;33m\u001b[0m\u001b[1;33m\u001b[0m\u001b[0m\n\u001b[0m\u001b[0;32m     16\u001b[0m \u001b[1;33m\u001b[0m\u001b[0m\n\u001b[0;32m     17\u001b[0m         \u001b[0mself\u001b[0m\u001b[1;33m.\u001b[0m\u001b[0mname\u001b[0m \u001b[1;33m=\u001b[0m \u001b[0mname\u001b[0m\u001b[1;33m\u001b[0m\u001b[1;33m\u001b[0m\u001b[0m\n",
      "\u001b[1;31mValueError\u001b[0m: <Fungsi.FungsiAktivasi.FungsiAktivasi object at 0x000001D44201D250> bukan merupakan nama fungsi aktivasi yang valid."
     ]
    }
   ],
   "source": [
    "model, hist = run_test(n_hidden = 1, hidden_size = 1)"
   ]
  },
  {
   "cell_type": "code",
   "execution_count": null,
   "id": "4902fcc5",
   "metadata": {},
   "outputs": [],
   "source": [
    "model, hist = run_test(n_hidden = 1, hidden_size = 2)"
   ]
  },
  {
   "cell_type": "code",
   "execution_count": null,
   "id": "8fa48283",
   "metadata": {},
   "outputs": [],
   "source": [
    "model, hist = run_test(n_hidden = 1, hidden_size = 3)"
   ]
  },
  {
   "cell_type": "code",
   "execution_count": null,
   "id": "719a1b09",
   "metadata": {},
   "outputs": [],
   "source": [
    "model, hist = run_test(n_hidden = 2, hidden_size = 2)"
   ]
  },
  {
   "cell_type": "code",
   "execution_count": null,
   "id": "0205404b",
   "metadata": {},
   "outputs": [],
   "source": [
    "model, hist = run_test(n_hidden = 3, hidden_size = 2)"
   ]
  },
  {
   "cell_type": "code",
   "execution_count": null,
   "id": "d83c6761",
   "metadata": {},
   "outputs": [],
   "source": [
    "model, hist = run_test(n_hidden = 4, hidden_size = 2)"
   ]
  },
  {
   "cell_type": "markdown",
   "id": "9103a7f8",
   "metadata": {},
   "source": [
    "## Pengaruh fungsi aktivasi"
   ]
  },
  {
   "cell_type": "code",
   "execution_count": null,
   "id": "57e6b481",
   "metadata": {},
   "outputs": [],
   "source": [
    "model, hist = run_test(n_hidden = 4, hidden_size = 2, activation_hidden = LINEAR)"
   ]
  },
  {
   "cell_type": "code",
   "execution_count": null,
   "id": "1e004f7b",
   "metadata": {},
   "outputs": [],
   "source": [
    "model, hist = run_test(n_hidden = 4, hidden_size = 2, activation_hidden = RELU)"
   ]
  },
  {
   "cell_type": "code",
   "execution_count": null,
   "id": "726469b2",
   "metadata": {},
   "outputs": [],
   "source": [
    "model, hist = run_test(n_hidden = 4, hidden_size = 2, activation_hidden = SIGMOID)"
   ]
  },
  {
   "cell_type": "code",
   "execution_count": null,
   "id": "faec7db7",
   "metadata": {},
   "outputs": [],
   "source": [
    "model, hist = run_test(n_hidden = 4, hidden_size = 2, activation_hidden = TANH)"
   ]
  },
  {
   "cell_type": "markdown",
   "id": "ec8fad0e",
   "metadata": {},
   "source": [
    "## Pengaruh learning rate"
   ]
  },
  {
   "cell_type": "code",
   "execution_count": null,
   "id": "ab2c9375",
   "metadata": {},
   "outputs": [],
   "source": [
    "model, hist = run_test(activation_hidden = TANH, batch_size = 10, n_hidden = 1, hidden_size = 3, epochs = 100, learning_rate = 0.1)"
   ]
  },
  {
   "cell_type": "code",
   "execution_count": null,
   "id": "a58eb41a",
   "metadata": {},
   "outputs": [],
   "source": [
    "model, hist = run_test(activation_hidden = TANH, batch_size = 10, n_hidden = 1, hidden_size = 3, epochs = 100, learning_rate = 0.01)"
   ]
  },
  {
   "cell_type": "code",
   "execution_count": null,
   "id": "a24dd28d",
   "metadata": {},
   "outputs": [],
   "source": [
    "model, hist = run_test(activation_hidden = TANH, batch_size = 10, n_hidden = 1, hidden_size = 3, epochs = 100, learning_rate = 0.001)"
   ]
  },
  {
   "cell_type": "markdown",
   "id": "3428e9c6",
   "metadata": {},
   "source": [
    "## Pengaruh inisialisasi bobot"
   ]
  },
  {
   "cell_type": "code",
   "execution_count": null,
   "id": "3f5e1acc",
   "metadata": {},
   "outputs": [],
   "source": [
    "model, hist = run_test(weight_init_method = \"zero\")"
   ]
  },
  {
   "cell_type": "code",
   "execution_count": null,
   "id": "c9cacb8d",
   "metadata": {},
   "outputs": [],
   "source": [
    "model, hist = run_test(weight_init_method = \"uniform\")"
   ]
  },
  {
   "cell_type": "code",
   "execution_count": null,
   "id": "9edc5c82",
   "metadata": {},
   "outputs": [],
   "source": [
    "model, hist = run_test(weight_init_method = \"normal\")"
   ]
  },
  {
   "cell_type": "markdown",
   "id": "c90d8824",
   "metadata": {},
   "source": [
    "## Pengaruh regularisasi"
   ]
  },
  {
   "cell_type": "code",
   "execution_count": null,
   "id": "0d03811f",
   "metadata": {},
   "outputs": [],
   "source": [
    "model, hist = run_test(lambda_L1 = 0, lambda_L2 = 0)"
   ]
  },
  {
   "cell_type": "code",
   "execution_count": null,
   "id": "6122047c",
   "metadata": {},
   "outputs": [],
   "source": [
    "model, hist = run_test(lambda_L1 = 1e-4, lambda_L2 = 0)"
   ]
  },
  {
   "cell_type": "code",
   "execution_count": null,
   "id": "3310c5d5",
   "metadata": {},
   "outputs": [],
   "source": [
    "model, hist = run_test(lambda_L1 = 0, lambda_L2 = 1e-4)"
   ]
  }
 ],
 "metadata": {
  "kernelspec": {
   "display_name": "base",
   "language": "python",
   "name": "python3"
  },
  "language_info": {
   "codemirror_mode": {
    "name": "ipython",
    "version": 3
   },
   "file_extension": ".py",
   "mimetype": "text/x-python",
   "name": "python",
   "nbconvert_exporter": "python",
   "pygments_lexer": "ipython3",
   "version": "3.9.13"
  }
 },
 "nbformat": 4,
 "nbformat_minor": 5
}
